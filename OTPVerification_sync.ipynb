{
 "cells": [
  {
   "cell_type": "code",
   "execution_count": 1,
   "id": "0a49024b",
   "metadata": {},
   "outputs": [
    {
     "name": "stdout",
     "output_type": "stream",
     "text": [
      "Enter your phone number: 9837428544\n",
      "OTP sent to 9837428544: 448016\n",
      "Enter the OTP you received: 448016\n",
      "OTP verification successful!\n"
     ]
    }
   ],
   "source": [
    "import random\n",
    "\n",
    "def generate_otp():\n",
    "    \"\"\"Generate a random 6-digit OTP\"\"\"\n",
    "    digits = \"0123456789\"\n",
    "    otp = \"\"\n",
    "    for _ in range(6):\n",
    "        otp += random.choice(digits)\n",
    "    return otp\n",
    "\n",
    "def send_otp(phone_number, otp):\n",
    "    \"\"\"Simulate sending OTP to a phone number (print it)\"\"\"\n",
    "    print(f\"OTP sent to {phone_number}: {otp}\")\n",
    "\n",
    "def verify_otp(entered_otp, otp):\n",
    "    \"\"\"Verify the entered OTP\"\"\"\n",
    "    return entered_otp == otp\n",
    "\n",
    "# Simulate a user entering their phone number\n",
    "phone_number = input(\"Enter your phone number: \")\n",
    "\n",
    "# Generate and send OTP\n",
    "otp = generate_otp()\n",
    "send_otp(phone_number, otp)\n",
    "\n",
    "# Simulate a user entering the OTP for verification\n",
    "entered_otp = input(\"Enter the OTP you received: \")\n",
    "\n",
    "# Verify the OTP\n",
    "if verify_otp(entered_otp, otp):\n",
    "    print(\"OTP verification successful!\")\n",
    "else:\n",
    "    print(\"OTP verification failed.\")"
   ]
  },
  {
   "cell_type": "code",
   "execution_count": null,
   "id": "41b5b0a0",
   "metadata": {},
   "outputs": [],
   "source": []
  }
 ],
 "metadata": {
  "kernelspec": {
   "display_name": "Python 3 (ipykernel)",
   "language": "python",
   "name": "python3"
  },
  "language_info": {
   "codemirror_mode": {
    "name": "ipython",
    "version": 3
   },
   "file_extension": ".py",
   "mimetype": "text/x-python",
   "name": "python",
   "nbconvert_exporter": "python",
   "pygments_lexer": "ipython3",
   "version": "3.10.9"
  }
 },
 "nbformat": 4,
 "nbformat_minor": 5
}
